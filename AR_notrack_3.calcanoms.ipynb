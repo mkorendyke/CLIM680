{
 "cells": [
  {
   "cell_type": "markdown",
   "metadata": {},
   "source": [
    "# calcanoms \n",
    "\n",
    "This is the second step in getting atmospheric river stuff\n",
    "\n",
    "This program:\n",
    "1. Calculates the seasonal cycle for the NDJFM AR occurrence data\n",
    "* Input File: `/glade/work/mkorendy/metisregimes/resolution/data.AR.10%.PNA.months.nc`\n",
    "* Seasonal cycle is calculated using David Straus's parabola method\n",
    "* Fit a parabola at each grid point over all days in the season for each year\n",
    "* Average the parabola at each grid point over all years, this is the climatological seasonal cycle\n",
    "    - Output File: `/glade/work/mkorendy/metisregimes/resolution/data.AR.10%.PNA.months.climo.nc`\n",
    "2. Calculates the anomalies\n",
    "* By removing the climatological seasonal cycle from the full fields\n",
    "3. Writes anomalies to a single netcdf file\n",
    "* Output File: `/glade/work/mkorendy/metisregimes/resolution/data.AR.10%.PNA.months.anoms.nc`"
   ]
  },
  {
   "cell_type": "markdown",
   "metadata": {},
   "source": [
    "### Function to calculate the climatology using the parabola fit method"
   ]
  },
  {
   "cell_type": "code",
   "execution_count": 1,
   "metadata": {},
   "outputs": [],
   "source": [
    "def climo_parabola(da):\n",
    "  \n",
    "    nt,ny,nx=da.shape\n",
    "    print(da.shape)\n",
    "    nyr = 30 #number of years\n",
    "    ndays = int(nt/nyr) #number of times\n",
    "    print(ndays)\n",
    "    \n",
    "    \n",
    "    poly=np.zeros((nyr,ndays,ny,nx))\n",
    "    x=np.arange(ndays) #days\n",
    "    y=da.reshape(nyr,ndays,nx*ny) #reshape input array to have (number of years, days, grid points), new dataset\n",
    "    \n",
    "    #Fit parabola to each year\n",
    "    for iyr in range(nyr):\n",
    "        pfitcoeffs=np.polyfit(x,y[iyr,:,:],3)\n",
    "        #print(nyr)\n",
    "        #print(pfitcoeffs)\n",
    "    \n",
    "        k=0\n",
    "        for j in range(ny):\n",
    "            for i in range(nx):\n",
    "                poly[iyr,:,j,i]=np.polyval(pfitcoeffs[:,k],x)\n",
    "                k+=1\n",
    "    \n",
    "    #Take the mean of all the parabolas\n",
    "    climo=poly.mean(axis=0)\n",
    "    \n",
    "    return climo"
   ]
  },
  {
   "cell_type": "markdown",
   "metadata": {},
   "source": [
    "### Function to remove the climatology from the data to get anomalies"
   ]
  },
  {
   "cell_type": "code",
   "execution_count": 2,
   "metadata": {},
   "outputs": [],
   "source": [
    "def make_anoms(da,climo):\n",
    "\n",
    "    nt,ny,nx=da.shape\n",
    "    nyr = 30 #number of years\n",
    "    ndays = int(nt/nyr) #number of times\n",
    "    y=da.reshape(nyr,ndays,ny,nx) #reshaped data set\n",
    "\n",
    "    anoms=np.zeros((nyr,ndays,ny,nx)) #anomaly data set\n",
    "    \n",
    "    #Subtract the climatology from the data\n",
    "    for iyr in range(nyr):\n",
    "        anoms[iyr,:,:,:]=y[iyr,:,:,:]-climo \n",
    "        \n",
    "    anoms=anoms.reshape(nt,ny,nx)\n",
    "    \n",
    "    return anoms"
   ]
  },
  {
   "cell_type": "code",
   "execution_count": 3,
   "metadata": {},
   "outputs": [],
   "source": [
    "import xarray as xr\n",
    "import matplotlib.pyplot as plt\n",
    "import pandas as pd\n",
    "import numpy as np"
   ]
  },
  {
   "cell_type": "markdown",
   "metadata": {},
   "source": [
    "## Constants"
   ]
  },
  {
   "cell_type": "code",
   "execution_count": 4,
   "metadata": {},
   "outputs": [],
   "source": [
    "era5 = True\n",
    "res = '1279'\n",
    "resolution = 'tco' + res\n",
    "threshold = '10%'"
   ]
  },
  {
   "cell_type": "markdown",
   "metadata": {},
   "source": [
    "### Define input and output files"
   ]
  },
  {
   "cell_type": "code",
   "execution_count": 5,
   "metadata": {},
   "outputs": [],
   "source": [
    "# Path\n",
    "if era5 == True or res == '199':\n",
    "    path='/glade/work/mkorendy/metisregimes/'\n",
    "else:\n",
    "    path = '/glade/work/mkorendy/metisregimes/' + resolution + '/'\n",
    "    \n",
    "# Atmospheric River Input\n",
    "if era5 == True:\n",
    "    fname = path + 'era5.AR.' + threshold + '.PNA.NDJFM.nc'\n",
    "elif res == '1279':\n",
    "    fname= path + 'metis1279.AR.' + threshold + '.PNA.ND.nc'\n",
    "else:\n",
    "    fname = path + 'metis' + res + '.AR.' + threshold + '.PNA.NDJFM.nc'\n",
    "    \n",
    "# Filter time input\n",
    "if era5 == True or res != '1279':\n",
    "    f_times = '/glade/work/mkorendy/metisregimes/' + 'metis.z500_pna_NDJFM_lpfilter_twicedaily_10days.1986-2016.anoms.nc'\n",
    "else:\n",
    "    f_times = path + 'metis.z500_pna_ND_lpfilter_twicedaily_10days.1986-2016.anoms.nc'\n",
    "\n",
    "# Output\n",
    "if era5 == True:\n",
    "    clim_out = path + 'era5.AR.' + threshold + '.PNA.NDJFM.climo.nc'\n",
    "    anoms_out = path + 'era5.AR.' + threshold + '.PNA.NDJFM.anoms.nc'\n",
    "elif res == '1279':\n",
    "    clim_out = path + 'metis1279.AR.' + threshold + '.PNA.ND.climo.nc'\n",
    "    anoms_out = path + 'metis1279.AR.' + threshold + '.PNA.ND.anoms.nc'\n",
    "else:\n",
    "    clim_out = path + 'metis' + res + '.AR.' + threshold + '.PNA.NDJFM.climo.nc'\n",
    "    anoms_out = path + 'metis' + res + '.AR.' + threshold + '.PNA.NDJFM.anoms.nc'"
   ]
  },
  {
   "cell_type": "code",
   "execution_count": 6,
   "metadata": {},
   "outputs": [
    {
     "name": "stdout",
     "output_type": "stream",
     "text": [
      "/glade/work/mkorendy/metisregimes/era5.AR.10%.PNA.NDJFM.nc\n",
      "/glade/work/mkorendy/metisregimes/era5.AR.10%.PNA.NDJFM.climo.nc\n",
      "/glade/work/mkorendy/metisregimes/era5.AR.10%.PNA.NDJFM.anoms.nc\n",
      "/glade/work/mkorendy/metisregimes/metis.z500_pna_NDJFM_lpfilter_twicedaily_10days.1986-2016.anoms.nc\n"
     ]
    }
   ],
   "source": [
    "print(fname)\n",
    "print(clim_out)\n",
    "print(anoms_out)\n",
    "print(f_times)"
   ]
  },
  {
   "cell_type": "markdown",
   "metadata": {},
   "source": [
    "### Set the list of years"
   ]
  },
  {
   "cell_type": "code",
   "execution_count": 7,
   "metadata": {},
   "outputs": [],
   "source": [
    "yrs_list=np.arange(1986,2016)"
   ]
  },
  {
   "cell_type": "markdown",
   "metadata": {},
   "source": [
    "## Read the data"
   ]
  },
  {
   "cell_type": "code",
   "execution_count": 8,
   "metadata": {},
   "outputs": [],
   "source": [
    "# Read data\n",
    "ds=xr.open_dataset(fname,decode_times=True)\n",
    "\n",
    "# Times\n",
    "ds_times = xr.open_dataset(f_times, decode_times=True)\n",
    "\n",
    "# Reorder data\n",
    "if era5 == True:\n",
    "    ds = ds.reindex(time=sorted(ds['time'].values))\n",
    "\n",
    "# Select filtering dates\n",
    "if era5 == True:\n",
    "    ds = ds.sel(time=ds_times.time)"
   ]
  },
  {
   "cell_type": "code",
   "execution_count": 9,
   "metadata": {},
   "outputs": [],
   "source": [
    "#ds"
   ]
  },
  {
   "cell_type": "markdown",
   "metadata": {},
   "source": [
    "### Replace numbers with 1 and nans with 0 for better counting"
   ]
  },
  {
   "cell_type": "code",
   "execution_count": 10,
   "metadata": {},
   "outputs": [],
   "source": [
    "da_river = np.nan_to_num(ds.river.values)\n",
    "da_river = np.where(da_river == 0, 0, 1)"
   ]
  },
  {
   "cell_type": "code",
   "execution_count": 11,
   "metadata": {},
   "outputs": [
    {
     "data": {
      "text/plain": [
       "31429"
      ]
     },
     "execution_count": 11,
     "metadata": {},
     "output_type": "execute_result"
    }
   ],
   "source": [
    "np.count_nonzero(da_river)"
   ]
  },
  {
   "cell_type": "markdown",
   "metadata": {},
   "source": [
    "### Reshape the metis data into ensembles and time"
   ]
  },
  {
   "cell_type": "code",
   "execution_count": 12,
   "metadata": {},
   "outputs": [],
   "source": [
    "if era5 == False:\n",
    "    ds = xr.DataArray(da_river.reshape((len(ds_times.ensemble), len(ds_times.time),22,53)), \n",
    "                     coords={'ensemble':ds_times.ensemble.values, 'time':ds_times.time.values, \n",
    "                             'lat':ds['lat'].values, 'lon':ds['lon'].values},\n",
    "                             dims=['ensemble','time', 'lat', 'lon']).to_dataset(name='river')\n",
    "else:\n",
    "    ds = xr.DataArray(da_river.reshape(len(ds_times.time),22,53), \n",
    "                     coords={'time':ds_times.time.values, \n",
    "                             'lat':ds['lat'].values, 'lon':ds['lon'].values},\n",
    "                             dims=['time', 'lat', 'lon']).to_dataset(name='river')"
   ]
  },
  {
   "cell_type": "code",
   "execution_count": 13,
   "metadata": {},
   "outputs": [],
   "source": [
    "#ds"
   ]
  },
  {
   "cell_type": "markdown",
   "metadata": {},
   "source": [
    "## Calculate climatology"
   ]
  },
  {
   "cell_type": "code",
   "execution_count": 14,
   "metadata": {},
   "outputs": [
    {
     "name": "stdout",
     "output_type": "stream",
     "text": [
      "(8160, 22, 53)\n",
      "272\n"
     ]
    }
   ],
   "source": [
    "if era5 == False:\n",
    "    #Loop through ensembles\n",
    "    climo = []\n",
    "    #anoms_z500 = []\n",
    "\n",
    "    for e in ds.ensemble:\n",
    "        climo_e=climo_parabola(ds.sel(ensemble=e).river.values)\n",
    "        climo.append(climo_e)\n",
    "\n",
    "        #anoms_z500_e=make_anoms(ds.sel(ensemble=e)['low_pass_' + variable].values,climo_z500_e)\n",
    "        #anoms_z500.append(anoms_z500_e)\n",
    "\n",
    "\n",
    "    climo = np.array(climo)\n",
    "    #anoms_z500 = np.array(anoms_z500)\n",
    "    #print(climo.shape)\n",
    "    #print(anoms_z500.shape)\n",
    "\n",
    "    #climo_u250=climo_parabola(ds['u250'].values)\n",
    "else:\n",
    "    climo = climo_parabola(ds.river.values)"
   ]
  },
  {
   "cell_type": "code",
   "execution_count": 15,
   "metadata": {},
   "outputs": [
    {
     "data": {
      "text/plain": [
       "(272, 22, 53)"
      ]
     },
     "execution_count": 15,
     "metadata": {},
     "output_type": "execute_result"
    }
   ],
   "source": [
    "climo.shape"
   ]
  },
  {
   "cell_type": "code",
   "execution_count": 16,
   "metadata": {},
   "outputs": [],
   "source": [
    "if era5 == False:\n",
    "    climo = xr.DataArray(climo, coords={'ensemble':ds.ensemble.values, 'time':np.arange(0,len(ds.time)/30),\n",
    "                                        'lat':ds['lat'].values,'lon':ds['lon'].values},\n",
    "                         dims=['ensemble','time','lat','lon'])\n",
    "else:\n",
    "    climo = xr.DataArray(climo, coords={'time':np.arange(0,272),\n",
    "                                        'lat':ds['lat'].values,'lon':ds['lon'].values},\n",
    "                         dims=['time','lat','lon'])"
   ]
  },
  {
   "cell_type": "markdown",
   "metadata": {},
   "source": [
    "### The climatology is the seasonal cycle ensemble mean"
   ]
  },
  {
   "cell_type": "code",
   "execution_count": 17,
   "metadata": {},
   "outputs": [],
   "source": [
    "if era5 == False:\n",
    "    climo = climo.mean(dim='ensemble')"
   ]
  },
  {
   "cell_type": "code",
   "execution_count": 19,
   "metadata": {},
   "outputs": [],
   "source": [
    "#ds.ensemble"
   ]
  },
  {
   "cell_type": "markdown",
   "metadata": {},
   "source": [
    "## Calculate anomalies"
   ]
  },
  {
   "cell_type": "code",
   "execution_count": 20,
   "metadata": {},
   "outputs": [
    {
     "data": {
      "text/plain": [
       "(8160, 22, 53)"
      ]
     },
     "execution_count": 20,
     "metadata": {},
     "output_type": "execute_result"
    }
   ],
   "source": [
    "if era5 == False:\n",
    "    anoms = []\n",
    "\n",
    "    for e in ds.ensemble.values:\n",
    "        anoms_e=make_anoms(ds.sel(ensemble=e).river.values,climo)\n",
    "        anoms.append(anoms_e)\n",
    "\n",
    "    anoms = np.array(anoms)\n",
    "else:\n",
    "    anoms = make_anoms(ds.river.values,climo)\n",
    "anoms.shape"
   ]
  },
  {
   "cell_type": "code",
   "execution_count": 21,
   "metadata": {},
   "outputs": [
    {
     "data": {
      "text/plain": [
       "[<matplotlib.lines.Line2D at 0x2ad3bcdd0048>]"
      ]
     },
     "execution_count": 21,
     "metadata": {},
     "output_type": "execute_result"
    },
    {
     "data": {
      "image/png": "[encoded data removed]",
      "text/plain": [
       "<Figure size 432x288 with 1 Axes>"
      ]
     },
     "metadata": {
      "needs_background": "light"
     },
     "output_type": "display_data"
    }
   ],
   "source": [
    "plt.plot(da_river[0:272,12,25])\n",
    "#plt.plot(climo[:,12,25])\n",
    "#plt.legend(['river','climo'])"
   ]
  },
  {
   "cell_type": "code",
   "execution_count": 22,
   "metadata": {},
   "outputs": [],
   "source": [
    "#da_river[200:272]"
   ]
  },
  {
   "cell_type": "code",
   "execution_count": 23,
   "metadata": {},
   "outputs": [],
   "source": [
    "if era5 == False:\n",
    "    ds_anoms=xr.DataArray(anoms,\n",
    "                    coords={'ensemble':np.arange(len(ds['ensemble'])), 'time':ds['time'],\n",
    "                            'lat':ds['lat'],\n",
    "                            'lon': ds['lon']},\n",
    "                            dims=['ensemble','time','lat','lon'])\n",
    "    ds_anoms=ds_anoms.to_dataset(name='river')\n",
    "    ds_anoms = ds_anoms.transpose('time','ensemble','lat','lon')\n",
    "else:\n",
    "    ds_anoms = xr.DataArray(anoms,\n",
    "                    coords={'time':ds['time'],\n",
    "                            'lat':ds['lat'],\n",
    "                            'lon': ds['lon']},\n",
    "                            dims=['time','lat','lon'])\n",
    "    ds_anoms=ds_anoms.to_dataset(name='river')"
   ]
  },
  {
   "cell_type": "code",
   "execution_count": 24,
   "metadata": {},
   "outputs": [],
   "source": [
    "#ds_anoms"
   ]
  },
  {
   "cell_type": "code",
   "execution_count": 26,
   "metadata": {},
   "outputs": [
    {
     "data": {
      "text/plain": [
       "<matplotlib.colorbar.Colorbar at 0x2ad3bcf24208>"
      ]
     },
     "execution_count": 26,
     "metadata": {},
     "output_type": "execute_result"
    },
    {
     "data": {
      "image/png": "[encoded data removed]",
      "text/plain": [
       "<Figure size 432x288 with 2 Axes>"
      ]
     },
     "metadata": {
      "needs_background": "light"
     },
     "output_type": "display_data"
    }
   ],
   "source": [
    "plt.contourf(ds_anoms.river[6,:,:])\n",
    "plt.colorbar()"
   ]
  },
  {
   "cell_type": "code",
   "execution_count": 27,
   "metadata": {},
   "outputs": [
    {
     "data": {
      "text/plain": [
       "[<matplotlib.lines.Line2D at 0x2ad3bce16ba8>]"
      ]
     },
     "execution_count": 27,
     "metadata": {},
     "output_type": "execute_result"
    },
    {
     "data": {
      "image/png": "[encoded data removed]",
      "text/plain": [
       "<Figure size 432x288 with 1 Axes>"
      ]
     },
     "metadata": {
      "needs_background": "light"
     },
     "output_type": "display_data"
    }
   ],
   "source": [
    "plt.plot(ds_anoms['river'][0,12,25])"
   ]
  },
  {
   "cell_type": "code",
   "execution_count": 28,
   "metadata": {},
   "outputs": [],
   "source": [
    "climo = climo.to_dataset(name='river_clim')"
   ]
  },
  {
   "cell_type": "markdown",
   "metadata": {},
   "source": [
    "### Write to netcdf"
   ]
  },
  {
   "cell_type": "code",
   "execution_count": 29,
   "metadata": {},
   "outputs": [],
   "source": [
    "climo.to_netcdf(clim_out)\n",
    "ds_anoms.to_netcdf(anoms_out)"
   ]
  },
  {
   "cell_type": "code",
   "execution_count": null,
   "metadata": {},
   "outputs": [],
   "source": []
  }
 ],
 "metadata": {
  "kernelspec": {
   "display_name": "Python (wxregimes)",
   "language": "python",
   "name": "wxregimes"
  },
  "language_info": {
   "codemirror_mode": {
    "name": "ipython",
    "version": 3
   },
   "file_extension": ".py",
   "mimetype": "text/x-python",
   "name": "python",
   "nbconvert_exporter": "python",
   "pygments_lexer": "ipython3",
   "version": "3.6.10"
  }
 },
 "nbformat": 4,
 "nbformat_minor": 4
}
